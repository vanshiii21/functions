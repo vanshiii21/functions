{
  "nbformat": 4,
  "nbformat_minor": 0,
  "metadata": {
    "colab": {
      "provenance": []
    },
    "kernelspec": {
      "name": "python3",
      "display_name": "Python 3"
    },
    "language_info": {
      "name": "python"
    }
  },
  "cells": [
    {
      "cell_type": "code",
      "execution_count": null,
      "metadata": {
        "id": "Hbbk9R4yTymg"
      },
      "outputs": [],
      "source": []
    },
    {
      "cell_type": "markdown",
      "source": [
        "#Vanshika's python assignment (pwsilks)"
      ],
      "metadata": {
        "id": "gvJVRZ5EOa-T"
      }
    },
    {
      "cell_type": "markdown",
      "source": [
        "#python assignment\n",
        "question/answer\n",
        "1. what is python and why is it popular?\n",
        "\n",
        "ans.python is popular programming language known for its simplicity and readability. it is widely used in various fields like web dev,data sci,AI,and automation one of the main reasons its popularity is its easy to understand syntax, which makes coding more accessible for beginners. also offer a vast collection of libraries and framebook,operating system without major modification.\n",
        "\n",
        "2. what is an interpreter in python?\n",
        "\n",
        "ans.An interpreter in Python is a program that reads and runs Python code line by line. Instead of converting the whole program into machine code at once (like a compiler), the interpreter executes each line of code immediately. This makes Python easy to use because you can quickly test and run your code without waiting for a full compilation. However, this also means Python programs may run slower compared to compiled languages. Popular Python interpreters include CPython, PyPy, and Jython.\n",
        "\n",
        "3.What are pre-defined keywords in Python?\n",
        "\n",
        "ans.Pre-defined keywords in Python are special words that have a fixed meaning in the language. You cannot use them as variable names, function names, or identifiers because they are reserved for specific operations. These keywords help Python understand the structure of your code.\n",
        "\n",
        "Python keywords are:\n",
        "Control Flow: if, else, elif, while, for, break, continue\n",
        "\n",
        "Function & Class: def, return, class\n",
        "\n",
        "Data Handling: True, False, None\n",
        "\n",
        "Logical Operators: and, or, not, is, in\n",
        "\n",
        "Other Keywords: import, as, from, with, global, lambda\n",
        "\n",
        "4.Can keywords be used as variable names?\n",
        "\n",
        "ans.No, keywords cannot be used as variable names in Python\n",
        "\n",
        "5.What is mutability in Python?\n",
        "\n",
        "ans.Mutability in Python refers to whether an object can be changed after it is created. If an object can be modified, it is called mutable; if it cannot be changed, it is called immutable\n",
        "\n",
        "6. Why are lists mutable, but tuples are immutable?\n",
        "\n",
        "ans.Lists are mutable because they allow modifications, such as adding, removing, or changing elements after creation. This is possible because lists store references to their elements, making it easy to update them without creating a new object.\n",
        "\n",
        "Tuples, on the other hand, are immutable because they are designed for fixed data that should not change. Once a tuple is created, its memory and structure remain constant, making it more secure and faster in some cases. This immutability ensures data integrity and allows tuples to be used as keys in dictionaries, unlike lists.\n",
        "\n",
        "7.What is the difference between “==” and “is” operators in Python?\n",
        "\n",
        "ans.The == operator checks if two values are the same, even if they are stored in different memory locations. For example, two lists with the same elements will be considered equal using ==, but they may still be separate objects in memory. On the other hand, the is operator checks if two variables refer to the exact same object in memory. This means even if two variables have the same value, is will return False if they are stored separately. However, for small immutable objects like integers and strings, Python may store them in the same memory location, making is return True\n",
        "\n",
        "8.What are logical operators in Python?\n",
        "\n",
        "ans.Logical operators in Python are used to combine multiple conditions and return True or False based on the evaluation. The and operator returns True only if both conditions are true; otherwise, it returns False. The or operator returns True if at least one of the conditions is true. The not operator reverses the result, making True into False and vice versa. These operators are commonly used in conditional statements like if and loops to control program flow.\n",
        "\n",
        "9.What is type casting in Python?\n",
        "\n",
        "ans.Type casting in Python is the process of converting one data type into another. It can be done using built-in functions like int(), float(), str(), and list(). For example, converting a string \"10\" to an integer using int(\"10\") allows mathematical operations on it. There are two types of type casting: implicit, where Python automatically converts types (e.g., 5 + 3.2 results in 8.2 as a float), and explicit, where the programmer manually converts data types. Type casting is useful for handling different data types in calculations and user input.\n",
        "\n",
        "10. What is the difference between implicit and explicit type casting?\n",
        "\n",
        "ans.Implicit type casting happens automatically when Python converts a smaller data type into a larger one to prevent data loss, such as converting an integer to a float during arithmetic operations. For example, adding an integer and a float results in a float without requiring manual conversion. Explicit type casting, on the other hand, is done manually using functions like int(), float(), and str(), allowing the programmer to control the conversion. However, explicit casting may lead to data loss, such as converting a float to an integer, which removes the decimal part.\n",
        "\n",
        "11.What is the purpose of conditional statements in Python?\n",
        "\n",
        "ans.Conditional statements in Python are used to make decisions in a program based on certain conditions. They allow the program to execute different blocks of code depending on whether a condition is True or False. The main conditional statements are if, elif, and else, which help control the flow of execution. For example, an if statement can check a user's age and allow access only if the age meets a certain requirement. This makes programs more dynamic and responsive to different inputs.\n",
        "\n",
        "12.How does the elif statement work?\n",
        "\n",
        "ans.The elif statement in Python is used when multiple conditions need to be checked sequentially. It stands for \"else if\" and comes after an if statement. If the if condition is False, Python checks the elif condition. If it is True, the corresponding block of code executes. If none of the conditions are true, the else block (if present) runs. This helps avoid multiple if statements and makes the code more efficient.\n",
        "\n",
        "13.What is the difference between for and while loops?\n",
        "\n",
        "ans.The for loop and while loop are both used for iteration in Python but work differently.\n",
        "A for loop is used when the number of iterations is known, as it iterates over a sequence like a list, tuple, or range.\n",
        "\n",
        "14.Describe a scenario where a while loop is more suitable than a for loop.\n",
        "\n",
        "ans. A while loop is more suitable when the number of iterations is unknown and depends on a condition. For example, in a user login system, where the program keeps asking for the correct password until the user enters it correctly.\n",
        "\n",
        "\n",
        "\n",
        "\n",
        "\n",
        "\n",
        "\n",
        "\n",
        "\n",
        "\n",
        "\n",
        "\n",
        "\n",
        "\n",
        "\n",
        "\n",
        "\n",
        "\n",
        "\n",
        "\n",
        "\n",
        "\n",
        "\n",
        "\n",
        "\n",
        "\n",
        "\n",
        "\n",
        "\n",
        "\n",
        "\n",
        "\n",
        "\n",
        "\n",
        "\n",
        "\n",
        "\n",
        "\n",
        "\n",
        "\n",
        "\n",
        "\n"
      ],
      "metadata": {
        "id": "V6edfzbt_vgs"
      }
    },
    {
      "cell_type": "code",
      "source": [
        "#practical que/ans\n",
        "#Write a Python program to print \"Hello, World!?\n",
        "print(\"hello world\")\n"
      ],
      "metadata": {
        "colab": {
          "base_uri": "https://localhost:8080/"
        },
        "id": "UnieotYAHr4i",
        "outputId": "57d4a0b9-9adf-4b9e-f48f-aacfd771cb0b"
      },
      "execution_count": 2,
      "outputs": [
        {
          "output_type": "stream",
          "name": "stdout",
          "text": [
            "hello world\n"
          ]
        }
      ]
    },
    {
      "cell_type": "code",
      "source": [
        "#Write a Python program that displays your name and age?\n",
        "name=input(\"enter your name\")\n",
        "age=int(input(\"enter your age\"))\n",
        "print(\"my name is\",name,\"and my age is\",age)"
      ],
      "metadata": {
        "colab": {
          "base_uri": "https://localhost:8080/"
        },
        "id": "JC0C1NWuVHhk",
        "outputId": "09cf0c70-7e6f-40f7-9ca2-d4d4e7ca9e03"
      },
      "execution_count": 8,
      "outputs": [
        {
          "output_type": "stream",
          "name": "stdout",
          "text": [
            "enter your namevanshika\n",
            "enter your age20\n",
            "my name is vanshika and my age is 20\n"
          ]
        }
      ]
    },
    {
      "cell_type": "code",
      "source": [
        "#Write code to print all the pre-defined keywords in Python using the keyword library?\n",
        "import keyword\n",
        "print(keyword.kwlist)"
      ],
      "metadata": {
        "colab": {
          "base_uri": "https://localhost:8080/"
        },
        "id": "PNkqw3GfJ4mM",
        "outputId": "a0c0f3ff-8027-4e38-8e60-acb27c25fc0d"
      },
      "execution_count": 9,
      "outputs": [
        {
          "output_type": "stream",
          "name": "stdout",
          "text": [
            "['False', 'None', 'True', 'and', 'as', 'assert', 'async', 'await', 'break', 'class', 'continue', 'def', 'del', 'elif', 'else', 'except', 'finally', 'for', 'from', 'global', 'if', 'import', 'in', 'is', 'lambda', 'nonlocal', 'not', 'or', 'pass', 'raise', 'return', 'try', 'while', 'with', 'yield']\n"
          ]
        }
      ]
    },
    {
      "cell_type": "code",
      "source": [
        "#Write a program that checks if a given word is a Python keyword?\n",
        "import keyword\n",
        "word=input(\"enter a word\")\n",
        "if keyword.iskeyword(word):\n",
        "    print(word,\"is a python keyword\")\n",
        "else:\n",
        "    print(word,\"is not a python keyword\")"
      ],
      "metadata": {
        "colab": {
          "base_uri": "https://localhost:8080/"
        },
        "id": "UDEISXIWJ4xD",
        "outputId": "5b90a190-d1ac-4704-d6cb-cbce029afb90"
      },
      "execution_count": 10,
      "outputs": [
        {
          "output_type": "stream",
          "name": "stdout",
          "text": [
            "enter a wordtrue\n",
            "true is not a python keyword\n"
          ]
        }
      ]
    },
    {
      "cell_type": "code",
      "source": [
        "#Create a list and tuple in Python, and demonstrate how attempting to change an element works differently for each?\n",
        "list=[1,2,3,4,5]\n",
        "tuple=(1,2,3,4,5)\n",
        "list[0]=10\n",
        "tuple[0]=10\n"
      ],
      "metadata": {
        "colab": {
          "base_uri": "https://localhost:8080/",
          "height": 176
        },
        "id": "_hoKTjatJ48A",
        "outputId": "5c5feec8-93f4-4492-e718-3e411201a694"
      },
      "execution_count": 13,
      "outputs": [
        {
          "output_type": "error",
          "ename": "TypeError",
          "evalue": "'tuple' object does not support item assignment",
          "traceback": [
            "\u001b[0;31m---------------------------------------------------------------------------\u001b[0m",
            "\u001b[0;31mTypeError\u001b[0m                                 Traceback (most recent call last)",
            "\u001b[0;32m<ipython-input-13-3d947db4b7cd>\u001b[0m in \u001b[0;36m<cell line: 0>\u001b[0;34m()\u001b[0m\n\u001b[1;32m      3\u001b[0m \u001b[0mtuple\u001b[0m\u001b[0;34m=\u001b[0m\u001b[0;34m(\u001b[0m\u001b[0;36m1\u001b[0m\u001b[0;34m,\u001b[0m\u001b[0;36m2\u001b[0m\u001b[0;34m,\u001b[0m\u001b[0;36m3\u001b[0m\u001b[0;34m,\u001b[0m\u001b[0;36m4\u001b[0m\u001b[0;34m,\u001b[0m\u001b[0;36m5\u001b[0m\u001b[0;34m)\u001b[0m\u001b[0;34m\u001b[0m\u001b[0;34m\u001b[0m\u001b[0m\n\u001b[1;32m      4\u001b[0m \u001b[0mlist\u001b[0m\u001b[0;34m[\u001b[0m\u001b[0;36m0\u001b[0m\u001b[0;34m]\u001b[0m\u001b[0;34m=\u001b[0m\u001b[0;36m10\u001b[0m\u001b[0;34m\u001b[0m\u001b[0;34m\u001b[0m\u001b[0m\n\u001b[0;32m----> 5\u001b[0;31m \u001b[0mtuple\u001b[0m\u001b[0;34m[\u001b[0m\u001b[0;36m0\u001b[0m\u001b[0;34m]\u001b[0m\u001b[0;34m=\u001b[0m\u001b[0;36m10\u001b[0m\u001b[0;34m\u001b[0m\u001b[0;34m\u001b[0m\u001b[0m\n\u001b[0m",
            "\u001b[0;31mTypeError\u001b[0m: 'tuple' object does not support item assignment"
          ]
        }
      ]
    },
    {
      "cell_type": "code",
      "source": [
        "#Write a function to demonstrate the behavior of mutable and immutable arguments?\n",
        "def modify_list(lst):\n",
        "    lst.append(4)\n",
        "my_list = [1, 2, 3]\n",
        "modify_list(my_list)\n",
        "print(my_list)\n"
      ],
      "metadata": {
        "colab": {
          "base_uri": "https://localhost:8080/"
        },
        "id": "V1q1kW2hJ4_G",
        "outputId": "5f5e892f-ce24-479f-8065-ba10c3d4685a"
      },
      "execution_count": 14,
      "outputs": [
        {
          "output_type": "stream",
          "name": "stdout",
          "text": [
            "[1, 2, 3, 4]\n"
          ]
        }
      ]
    },
    {
      "cell_type": "code",
      "source": [
        "#Write a function to demonstrate the behavior of mutable and immutable arguments?\n",
        "def modify_tuple(tup):\n",
        "    new_tup = tup + (4,)\n",
        "    return new_tup\n",
        "my_tuple = (1, 2, 3)\n",
        "my_tuple = modify_tuple(my_tuple)\n",
        "print(my_tuple)"
      ],
      "metadata": {
        "colab": {
          "base_uri": "https://localhost:8080/"
        },
        "id": "Gk_A5RLuJ5C-",
        "outputId": "4b552e99-2409-423b-aa90-6bd3f21991ce"
      },
      "execution_count": 15,
      "outputs": [
        {
          "output_type": "stream",
          "name": "stdout",
          "text": [
            "(1, 2, 3, 4)\n"
          ]
        }
      ]
    },
    {
      "cell_type": "code",
      "source": [
        "#Write a program to demonstrate the use of logical operators?\n",
        "x = 10\n",
        "y = 5\n",
        "z = 15\n"
      ],
      "metadata": {
        "id": "GsPDNkwtJ5HA"
      },
      "execution_count": 19,
      "outputs": []
    },
    {
      "cell_type": "code",
      "source": [
        "#Write a Python program to convert user input from string to integer, float, and boolean types?\n",
        "num_str = input(\"Enter a number as a string: \")\n",
        "num_int = int(num_str)\n",
        "num_float = float(num_str)\n",
        "num_bool = bool(num_str)\n",
        "\n"
      ],
      "metadata": {
        "colab": {
          "base_uri": "https://localhost:8080/"
        },
        "id": "dPT6ciZjJ5KT",
        "outputId": "1a182b77-ffa8-4394-9ef3-df5b5ff8f757"
      },
      "execution_count": 24,
      "outputs": [
        {
          "name": "stdout",
          "output_type": "stream",
          "text": [
            "Enter a number as a string: 1\n"
          ]
        }
      ]
    },
    {
      "cell_type": "code",
      "source": [
        "#Write code to demonstrate type casting with list elements?\n",
        "list_str = [\"1\", \"2\", \"3\", \"4\", \"5\"]\n",
        "list_int = [int(x) for x in list_str]\n",
        "list_float = [float(x) for x in list_str]"
      ],
      "metadata": {
        "id": "-9SHVBPlMxDK"
      },
      "execution_count": 29,
      "outputs": []
    },
    {
      "cell_type": "code",
      "source": [
        "#Write a program that checks if a number is positive, negative, or zero?\n",
        "num=int(input(\"enter a number\"))\n",
        "if num>0:\n",
        "    print(\"the number is positive\")\n",
        "elif num<0:\n",
        "    print(\"the number is negative\")\n",
        "else:\n",
        "    print(\"the number is zero\")"
      ],
      "metadata": {
        "colab": {
          "base_uri": "https://localhost:8080/"
        },
        "id": "Qxeuo6HkMxF4",
        "outputId": "40dfdc40-422f-423f-9d19-29b252c731be"
      },
      "execution_count": 30,
      "outputs": [
        {
          "output_type": "stream",
          "name": "stdout",
          "text": [
            "enter a number21\n",
            "the number is positive\n"
          ]
        }
      ]
    },
    {
      "cell_type": "code",
      "source": [
        "#Write a for loop to print numbers from 1 to 100?\n",
        "for i in range(1,101):\n",
        "    print(i)"
      ],
      "metadata": {
        "colab": {
          "base_uri": "https://localhost:8080/"
        },
        "id": "fkmmPn1dMxI4",
        "outputId": "de2fb04f-537b-4b4f-c764-9df0c73bb9c9"
      },
      "execution_count": 31,
      "outputs": [
        {
          "output_type": "stream",
          "name": "stdout",
          "text": [
            "1\n",
            "2\n",
            "3\n",
            "4\n",
            "5\n",
            "6\n",
            "7\n",
            "8\n",
            "9\n",
            "10\n",
            "11\n",
            "12\n",
            "13\n",
            "14\n",
            "15\n",
            "16\n",
            "17\n",
            "18\n",
            "19\n",
            "20\n",
            "21\n",
            "22\n",
            "23\n",
            "24\n",
            "25\n",
            "26\n",
            "27\n",
            "28\n",
            "29\n",
            "30\n",
            "31\n",
            "32\n",
            "33\n",
            "34\n",
            "35\n",
            "36\n",
            "37\n",
            "38\n",
            "39\n",
            "40\n",
            "41\n",
            "42\n",
            "43\n",
            "44\n",
            "45\n",
            "46\n",
            "47\n",
            "48\n",
            "49\n",
            "50\n",
            "51\n",
            "52\n",
            "53\n",
            "54\n",
            "55\n",
            "56\n",
            "57\n",
            "58\n",
            "59\n",
            "60\n",
            "61\n",
            "62\n",
            "63\n",
            "64\n",
            "65\n",
            "66\n",
            "67\n",
            "68\n",
            "69\n",
            "70\n",
            "71\n",
            "72\n",
            "73\n",
            "74\n",
            "75\n",
            "76\n",
            "77\n",
            "78\n",
            "79\n",
            "80\n",
            "81\n",
            "82\n",
            "83\n",
            "84\n",
            "85\n",
            "86\n",
            "87\n",
            "88\n",
            "89\n",
            "90\n",
            "91\n",
            "92\n",
            "93\n",
            "94\n",
            "95\n",
            "96\n",
            "97\n",
            "98\n",
            "99\n",
            "100\n"
          ]
        }
      ]
    },
    {
      "cell_type": "code",
      "source": [
        "#Write a Python program to find the sum of all even numbers between 1 and 50?\n",
        "sum=0\n",
        "for i in range(1,51):\n",
        "    if i%2==0:\n",
        "        sum=sum+i\n",
        "print(sum)"
      ],
      "metadata": {
        "colab": {
          "base_uri": "https://localhost:8080/"
        },
        "id": "J7Fh-ZpJMxLv",
        "outputId": "02737950-a4bb-4ce0-9e1d-6a1f5002f360"
      },
      "execution_count": 32,
      "outputs": [
        {
          "output_type": "stream",
          "name": "stdout",
          "text": [
            "650\n"
          ]
        }
      ]
    },
    {
      "cell_type": "code",
      "source": [
        "#Write a program to reverse a string using a while loop?\n",
        "str=input(\"enter a string\")\n",
        "rev=\"\"\n",
        "i=len(str)-1\n",
        "while i>=0:\n",
        "    rev=rev+str[i]\n",
        "    i=i-1\n",
        "print(rev)"
      ],
      "metadata": {
        "colab": {
          "base_uri": "https://localhost:8080/"
        },
        "id": "A9TpK5ujMxOY",
        "outputId": "cc1af9e2-68d5-42ff-e211-8429b46a67f3"
      },
      "execution_count": 36,
      "outputs": [
        {
          "output_type": "stream",
          "name": "stdout",
          "text": [
            "enter a string123\n",
            "321\n"
          ]
        }
      ]
    },
    {
      "cell_type": "code",
      "source": [
        "#Write a Python program to calculate the factorial of a number provided by the user using a while loop?\n",
        "num=int(input(\"enter a number\"))\n",
        "fact=1\n",
        "i=1\n",
        "while i<=num:\n",
        "    fact=fact*i\n",
        "    i=i+1\n",
        "print(fact)"
      ],
      "metadata": {
        "colab": {
          "base_uri": "https://localhost:8080/"
        },
        "id": "ePjnF5jLMxQn",
        "outputId": "d7426323-07b4-43ed-88f8-afc3634d98fb"
      },
      "execution_count": 35,
      "outputs": [
        {
          "output_type": "stream",
          "name": "stdout",
          "text": [
            "enter a number21\n",
            "51090942171709440000\n"
          ]
        }
      ]
    },
    {
      "cell_type": "code",
      "source": [],
      "metadata": {
        "id": "RkUj1jJ3MxTe"
      },
      "execution_count": null,
      "outputs": []
    },
    {
      "cell_type": "code",
      "source": [],
      "metadata": {
        "id": "hF_MUTAvMxW1"
      },
      "execution_count": null,
      "outputs": []
    }
  ]
}