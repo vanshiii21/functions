{
  "cells": [
    {
      "cell_type": "code",
      "execution_count": 2,
      "metadata": {
        "colab": {
          "base_uri": "https://localhost:8080/"
        },
        "id": "UnieotYAHr4i",
        "outputId": "57d4a0b9-9adf-4b9e-f48f-aacfd771cb0b"
      },
      "outputs": [
        {
          "name": "stdout",
          "output_type": "stream",
          "text": [
            "hello world\n"
          ]
        }
      ],
      "source": [
        "#practical que/ans\n",
        "#Write a Python program to print \"Hello, World!?\n",
        "print(\"hello world\")\n"
      ]
    },
    {
      "cell_type": "code",
      "execution_count": 8,
      "metadata": {
        "colab": {
          "base_uri": "https://localhost:8080/"
        },
        "id": "JC0C1NWuVHhk",
        "outputId": "09cf0c70-7e6f-40f7-9ca2-d4d4e7ca9e03"
      },
      "outputs": [
        {
          "name": "stdout",
          "output_type": "stream",
          "text": [
            "enter your namevanshika\n",
            "enter your age20\n",
            "my name is vanshika and my age is 20\n"
          ]
        }
      ],
      "source": [
        "#Write a Python program that displays your name and age?\n",
        "name=input(\"enter your name\")\n",
        "age=int(input(\"enter your age\"))\n",
        "print(\"my name is\",name,\"and my age is\",age)"
      ]
    },
    {
      "cell_type": "code",
      "execution_count": 9,
      "metadata": {
        "colab": {
          "base_uri": "https://localhost:8080/"
        },
        "id": "PNkqw3GfJ4mM",
        "outputId": "a0c0f3ff-8027-4e38-8e60-acb27c25fc0d"
      },
      "outputs": [
        {
          "name": "stdout",
          "output_type": "stream",
          "text": [
            "['False', 'None', 'True', 'and', 'as', 'assert', 'async', 'await', 'break', 'class', 'continue', 'def', 'del', 'elif', 'else', 'except', 'finally', 'for', 'from', 'global', 'if', 'import', 'in', 'is', 'lambda', 'nonlocal', 'not', 'or', 'pass', 'raise', 'return', 'try', 'while', 'with', 'yield']\n"
          ]
        }
      ],
      "source": [
        "#Write code to print all the pre-defined keywords in Python using the keyword library?\n",
        "import keyword\n",
        "print(keyword.kwlist)"
      ]
    },
    {
      "cell_type": "code",
      "execution_count": 10,
      "metadata": {
        "colab": {
          "base_uri": "https://localhost:8080/"
        },
        "id": "UDEISXIWJ4xD",
        "outputId": "5b90a190-d1ac-4704-d6cb-cbce029afb90"
      },
      "outputs": [
        {
          "name": "stdout",
          "output_type": "stream",
          "text": [
            "enter a wordtrue\n",
            "true is not a python keyword\n"
          ]
        }
      ],
      "source": [
        "#Write a program that checks if a given word is a Python keyword?\n",
        "import keyword\n",
        "word=input(\"enter a word\")\n",
        "if keyword.iskeyword(word):\n",
        "    print(word,\"is a python keyword\")\n",
        "else:\n",
        "    print(word,\"is not a python keyword\")"
      ]
    },
    {
      "cell_type": "code",
      "execution_count": 13,
      "metadata": {
        "colab": {
          "base_uri": "https://localhost:8080/",
          "height": 176
        },
        "id": "_hoKTjatJ48A",
        "outputId": "5c5feec8-93f4-4492-e718-3e411201a694"
      },
      "outputs": [
        {
          "ename": "TypeError",
          "evalue": "'tuple' object does not support item assignment",
          "output_type": "error",
          "traceback": [
            "\u001b[0;31m---------------------------------------------------------------------------\u001b[0m",
            "\u001b[0;31mTypeError\u001b[0m                                 Traceback (most recent call last)",
            "\u001b[0;32m<ipython-input-13-3d947db4b7cd>\u001b[0m in \u001b[0;36m<cell line: 0>\u001b[0;34m()\u001b[0m\n\u001b[1;32m      3\u001b[0m \u001b[0mtuple\u001b[0m\u001b[0;34m=\u001b[0m\u001b[0;34m(\u001b[0m\u001b[0;36m1\u001b[0m\u001b[0;34m,\u001b[0m\u001b[0;36m2\u001b[0m\u001b[0;34m,\u001b[0m\u001b[0;36m3\u001b[0m\u001b[0;34m,\u001b[0m\u001b[0;36m4\u001b[0m\u001b[0;34m,\u001b[0m\u001b[0;36m5\u001b[0m\u001b[0;34m)\u001b[0m\u001b[0;34m\u001b[0m\u001b[0;34m\u001b[0m\u001b[0m\n\u001b[1;32m      4\u001b[0m \u001b[0mlist\u001b[0m\u001b[0;34m[\u001b[0m\u001b[0;36m0\u001b[0m\u001b[0;34m]\u001b[0m\u001b[0;34m=\u001b[0m\u001b[0;36m10\u001b[0m\u001b[0;34m\u001b[0m\u001b[0;34m\u001b[0m\u001b[0m\n\u001b[0;32m----> 5\u001b[0;31m \u001b[0mtuple\u001b[0m\u001b[0;34m[\u001b[0m\u001b[0;36m0\u001b[0m\u001b[0;34m]\u001b[0m\u001b[0;34m=\u001b[0m\u001b[0;36m10\u001b[0m\u001b[0;34m\u001b[0m\u001b[0;34m\u001b[0m\u001b[0m\n\u001b[0m",
            "\u001b[0;31mTypeError\u001b[0m: 'tuple' object does not support item assignment"
          ]
        }
      ],
      "source": [
        "#Create a list and tuple in Python, and demonstrate how attempting to change an element works differently for each?\n",
        "list=[1,2,3,4,5]\n",
        "tuple=(1,2,3,4,5)\n",
        "list[0]=10\n",
        "tuple[0]=10\n"
      ]
    },
    {
      "cell_type": "code",
      "execution_count": 14,
      "metadata": {
        "colab": {
          "base_uri": "https://localhost:8080/"
        },
        "id": "V1q1kW2hJ4_G",
        "outputId": "5f5e892f-ce24-479f-8065-ba10c3d4685a"
      },
      "outputs": [
        {
          "name": "stdout",
          "output_type": "stream",
          "text": [
            "[1, 2, 3, 4]\n"
          ]
        }
      ],
      "source": [
        "#Write a function to demonstrate the behavior of mutable and immutable arguments?\n",
        "def modify_list(lst):\n",
        "    lst.append(4)\n",
        "my_list = [1, 2, 3]\n",
        "modify_list(my_list)\n",
        "print(my_list)\n"
      ]
    },
    {
      "cell_type": "code",
      "execution_count": 15,
      "metadata": {
        "colab": {
          "base_uri": "https://localhost:8080/"
        },
        "id": "Gk_A5RLuJ5C-",
        "outputId": "4b552e99-2409-423b-aa90-6bd3f21991ce"
      },
      "outputs": [
        {
          "name": "stdout",
          "output_type": "stream",
          "text": [
            "(1, 2, 3, 4)\n"
          ]
        }
      ],
      "source": [
        "#Write a function to demonstrate the behavior of mutable and immutable arguments?\n",
        "def modify_tuple(tup):\n",
        "    new_tup = tup + (4,)\n",
        "    return new_tup\n",
        "my_tuple = (1, 2, 3)\n",
        "my_tuple = modify_tuple(my_tuple)\n",
        "print(my_tuple)"
      ]
    },
    {
      "cell_type": "code",
      "execution_count": 19,
      "metadata": {
        "id": "GsPDNkwtJ5HA"
      },
      "outputs": [],
      "source": [
        "#Write a program to demonstrate the use of logical operators?\n",
        "x = 10\n",
        "y = 5\n",
        "z = 15\n"
      ]
    },
    {
      "cell_type": "code",
      "execution_count": 24,
      "metadata": {
        "colab": {
          "base_uri": "https://localhost:8080/"
        },
        "id": "dPT6ciZjJ5KT",
        "outputId": "1a182b77-ffa8-4394-9ef3-df5b5ff8f757"
      },
      "outputs": [
        {
          "name": "stdout",
          "output_type": "stream",
          "text": [
            "Enter a number as a string: 1\n"
          ]
        }
      ],
      "source": [
        "#Write a Python program to convert user input from string to integer, float, and boolean types?\n",
        "num_str = input(\"Enter a number as a string: \")\n",
        "num_int = int(num_str)\n",
        "num_float = float(num_str)\n",
        "num_bool = bool(num_str)\n",
        "\n"
      ]
    },
    {
      "cell_type": "code",
      "execution_count": 29,
      "metadata": {
        "id": "-9SHVBPlMxDK"
      },
      "outputs": [],
      "source": [
        "#Write code to demonstrate type casting with list elements?\n",
        "list_str = [\"1\", \"2\", \"3\", \"4\", \"5\"]\n",
        "list_int = [int(x) for x in list_str]\n",
        "list_float = [float(x) for x in list_str]"
      ]
    },
    {
      "cell_type": "code",
      "execution_count": 30,
      "metadata": {
        "colab": {
          "base_uri": "https://localhost:8080/"
        },
        "id": "Qxeuo6HkMxF4",
        "outputId": "40dfdc40-422f-423f-9d19-29b252c731be"
      },
      "outputs": [
        {
          "name": "stdout",
          "output_type": "stream",
          "text": [
            "enter a number21\n",
            "the number is positive\n"
          ]
        }
      ],
      "source": [
        "#Write a program that checks if a number is positive, negative, or zero?\n",
        "num=int(input(\"enter a number\"))\n",
        "if num>0:\n",
        "    print(\"the number is positive\")\n",
        "elif num<0:\n",
        "    print(\"the number is negative\")\n",
        "else:\n",
        "    print(\"the number is zero\")"
      ]
    },
    {
      "cell_type": "code",
      "execution_count": 31,
      "metadata": {
        "colab": {
          "base_uri": "https://localhost:8080/"
        },
        "id": "fkmmPn1dMxI4",
        "outputId": "de2fb04f-537b-4b4f-c764-9df0c73bb9c9"
      },
      "outputs": [
        {
          "name": "stdout",
          "output_type": "stream",
          "text": [
            "1\n",
            "2\n",
            "3\n",
            "4\n",
            "5\n",
            "6\n",
            "7\n",
            "8\n",
            "9\n",
            "10\n",
            "11\n",
            "12\n",
            "13\n",
            "14\n",
            "15\n",
            "16\n",
            "17\n",
            "18\n",
            "19\n",
            "20\n",
            "21\n",
            "22\n",
            "23\n",
            "24\n",
            "25\n",
            "26\n",
            "27\n",
            "28\n",
            "29\n",
            "30\n",
            "31\n",
            "32\n",
            "33\n",
            "34\n",
            "35\n",
            "36\n",
            "37\n",
            "38\n",
            "39\n",
            "40\n",
            "41\n",
            "42\n",
            "43\n",
            "44\n",
            "45\n",
            "46\n",
            "47\n",
            "48\n",
            "49\n",
            "50\n",
            "51\n",
            "52\n",
            "53\n",
            "54\n",
            "55\n",
            "56\n",
            "57\n",
            "58\n",
            "59\n",
            "60\n",
            "61\n",
            "62\n",
            "63\n",
            "64\n",
            "65\n",
            "66\n",
            "67\n",
            "68\n",
            "69\n",
            "70\n",
            "71\n",
            "72\n",
            "73\n",
            "74\n",
            "75\n",
            "76\n",
            "77\n",
            "78\n",
            "79\n",
            "80\n",
            "81\n",
            "82\n",
            "83\n",
            "84\n",
            "85\n",
            "86\n",
            "87\n",
            "88\n",
            "89\n",
            "90\n",
            "91\n",
            "92\n",
            "93\n",
            "94\n",
            "95\n",
            "96\n",
            "97\n",
            "98\n",
            "99\n",
            "100\n"
          ]
        }
      ],
      "source": [
        "#Write a for loop to print numbers from 1 to 100?\n",
        "for i in range(1,101):\n",
        "    print(i)"
      ]
    },
    {
      "cell_type": "code",
      "execution_count": 32,
      "metadata": {
        "colab": {
          "base_uri": "https://localhost:8080/"
        },
        "id": "J7Fh-ZpJMxLv",
        "outputId": "02737950-a4bb-4ce0-9e1d-6a1f5002f360"
      },
      "outputs": [
        {
          "name": "stdout",
          "output_type": "stream",
          "text": [
            "650\n"
          ]
        }
      ],
      "source": [
        "#Write a Python program to find the sum of all even numbers between 1 and 50?\n",
        "sum=0\n",
        "for i in range(1,51):\n",
        "    if i%2==0:\n",
        "        sum=sum+i\n",
        "print(sum)"
      ]
    },
    {
      "cell_type": "code",
      "execution_count": 36,
      "metadata": {
        "colab": {
          "base_uri": "https://localhost:8080/"
        },
        "id": "A9TpK5ujMxOY",
        "outputId": "cc1af9e2-68d5-42ff-e211-8429b46a67f3"
      },
      "outputs": [
        {
          "name": "stdout",
          "output_type": "stream",
          "text": [
            "enter a string123\n",
            "321\n"
          ]
        }
      ],
      "source": [
        "#Write a program to reverse a string using a while loop?\n",
        "str=input(\"enter a string\")\n",
        "rev=\"\"\n",
        "i=len(str)-1\n",
        "while i>=0:\n",
        "    rev=rev+str[i]\n",
        "    i=i-1\n",
        "print(rev)"
      ]
    },
    {
      "cell_type": "code",
      "execution_count": 35,
      "metadata": {
        "colab": {
          "base_uri": "https://localhost:8080/"
        },
        "id": "ePjnF5jLMxQn",
        "outputId": "d7426323-07b4-43ed-88f8-afc3634d98fb"
      },
      "outputs": [
        {
          "name": "stdout",
          "output_type": "stream",
          "text": [
            "enter a number21\n",
            "51090942171709440000\n"
          ]
        }
      ],
      "source": [
        "#Write a Python program to calculate the factorial of a number provided by the user using a while loop?\n",
        "num=int(input(\"enter a number\"))\n",
        "fact=1\n",
        "i=1\n",
        "while i<=num:\n",
        "    fact=fact*i\n",
        "    i=i+1\n",
        "print(fact)"
      ]
    },
    {
      "cell_type": "code",
      "execution_count": null,
      "metadata": {
        "id": "RkUj1jJ3MxTe"
      },
      "outputs": [],
      "source": []
    },
    {
      "cell_type": "code",
      "execution_count": null,
      "metadata": {
        "id": "hF_MUTAvMxW1"
      },
      "outputs": [],
      "source": []
    }
  ],
  "metadata": {
    "colab": {
      "provenance": []
    },
    "kernelspec": {
      "display_name": "Python 3",
      "name": "python3"
    },
    "language_info": {
      "name": "python"
    }
  },
  "nbformat": 4,
  "nbformat_minor": 0
}
